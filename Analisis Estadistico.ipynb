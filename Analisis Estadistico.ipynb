{
 "cells": [
  {
   "cell_type": "code",
   "execution_count": 12,
   "metadata": {
    "collapsed": false
   },
   "outputs": [],
   "source": [
    "#!/usr/bin/env python3\n",
    "# -*- coding: utf8 -*-\n",
    "\n",
    "\"\"\"Analisis estadístico de la densidad de cursos en cada día de la semana\"\"\"\n",
    "import sys\n",
    "import numpy as np\n",
    "from mpl_toolkits.mplot3d import Axes3D\n",
    "import matplotlib.pyplot as plt\n",
    "\n",
    "import parser_horarios\n",
    "\n",
    "parser_horarios.debug = True\n",
    "\n",
    "class Grilla:\n",
    "    def __init__(self, hora_inicio=7, hora_fin=23, fracciones_hora=2):\n",
    "        \"\"\"Las horas son [inicio, fin)\"\"\"\n",
    "        self.hora_inicio = hora_inicio\n",
    "        self.hora_fin = hora_fin\n",
    "        self.fracciones_hora = fracciones_hora\n",
    "        self.cantidad_dias_semana = 6\n",
    "        \n",
    "        self.grilla = np.zeros( (int((self.hora_fin-self.hora_inicio)*self.fracciones_hora), self.cantidad_dias_semana), dtype=int )\n",
    "\n",
    "    def __discretizar_hora(self, hora):\n",
    "        if hora > self.hora_fin:\n",
    "            raise ValueError(\"Hora debe ser menor que \"+self.hora_fin)\n",
    "        return int((hora-self.hora_inicio)*self.fracciones_hora)\n",
    "    \n",
    "    def cargar_curso(self, curso):\n",
    "        for h in curso.horario:\n",
    "            self.cargar_horario(h)\n",
    "    \n",
    "    def cargar_horario(self, horario):\n",
    "        dia=horario[0]\n",
    "        inicio=horario[1]\n",
    "        fin=horario[2]\n",
    "        # Resto uno en día porque arranca en 1 (Arreglar)\n",
    "        self.grilla[self.__discretizar_hora(inicio):self.__discretizar_hora(fin), dia-1] += 1\n",
    "\n",
    "    def __str__(self):\n",
    "        return \"De [\"+str(self.hora_inicio)+\", \" +str(self.hora_fin) + \")hs\\nL M X J V S\\n\" + str(self.grilla)\n",
    "        \n",
    "    def graficar(self):\n",
    "        fig = plt.figure()\n",
    "        ax = fig.add_subplot(111, projection='3d')\n",
    "        raise NotImplementedError('No entiendo mp')\n",
    "        \n",
    "    \n",
    "def crear_grilla_ocupacion(cursos):\n",
    "    grilla = Grilla(fracciones_hora=1)\n",
    "    i=0\n",
    "    for curso in cursos:\n",
    "        # Selecciono los del depto de electrónica plan '86\n",
    "        if int(curso.codigo/100)==66:\n",
    "            i=i+1\n",
    "            grilla.cargar_curso(curso)\n",
    "    \n",
    "    print(\"Cantidad de cursos: %d\"%i, file=sys.stderr)    \n",
    "    \n",
    "    return grilla\n",
    "\n",
    "def cargar_planilla(str_archivo='Horarios_1Q2016.csv'):\n",
    "    # Cargo datos\n",
    "    archivo_datos = 'Horarios_1Q2016.csv'\n",
    "    f = open(archivo_datos, 'rb')\n",
    "    str_data = f.read().decode('utf8', 'ignore') # Esto no me gusta\n",
    "    f.close()\n",
    "    \n",
    "    return parser_horarios.procesar_data(str_data)"
   ]
  },
  {
   "cell_type": "code",
   "execution_count": 13,
   "metadata": {
    "collapsed": false
   },
   "outputs": [
    {
     "name": "stderr",
     "output_type": "stream",
     "text": [
      "basura: \n",
      "\"1781\";\"1Q2016\";\"ANALISIS MATEMATICO II A \";\"6103\";\"\n",
      "Cantidad de cursos: 95"
     ]
    },
    {
     "name": "stdout",
     "output_type": "stream",
     "text": [
      "De [7, 23)hs\n",
      "L M X J V S\n",
      "[[ 0  0  0  0  0  1]\n",
      " [ 0  1  0  1  0  1]\n",
      " [ 0  2  1  1  0  1]\n",
      " [ 0  2  2  3  1  2]\n",
      " [ 0  1  2  3  1  2]\n",
      " [ 0  0  1  3  1  1]\n",
      " [ 2  0  0  3  0  0]\n",
      " [ 2  0  0  4  0  0]\n",
      " [ 2  1  1  3  0  0]\n",
      " [21 13  8 12 12  0]\n",
      " [23 16  8 11 12  0]\n",
      " [23 16  7 11 12  0]\n",
      " [20 22 20 21 19  0]\n",
      " [20 22 20 21 19  0]\n",
      " [20 21 20 19 18  0]\n",
      " [ 2  3  3  3  1  0]]\n"
     ]
    },
    {
     "name": "stderr",
     "output_type": "stream",
     "text": [
      "\n"
     ]
    }
   ],
   "source": [
    "cursos = cargar_planilla('Horarios_1Q2016.csv')\n",
    "grilla = crear_grilla_ocupacion(cursos)\n",
    "    \n",
    "print(grilla)"
   ]
  },
  {
   "cell_type": "code",
   "execution_count": null,
   "metadata": {
    "collapsed": true
   },
   "outputs": [],
   "source": []
  }
 ],
 "metadata": {
  "kernelspec": {
   "display_name": "Python 3",
   "language": "python",
   "name": "python3"
  },
  "language_info": {
   "codemirror_mode": {
    "name": "ipython",
    "version": 3
   },
   "file_extension": ".py",
   "mimetype": "text/x-python",
   "name": "python",
   "nbconvert_exporter": "python",
   "pygments_lexer": "ipython3",
   "version": "3.4.3"
  }
 },
 "nbformat": 4,
 "nbformat_minor": 0
}
