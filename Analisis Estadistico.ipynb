{
 "cells": [
  {
   "cell_type": "markdown",
   "metadata": {},
   "source": [
    "# Análisis Estadístico"
   ]
  },
  {
   "cell_type": "markdown",
   "metadata": {},
   "source": [
    "En la celda de abajo está el código, para revisar qué y cómo hace lo que hace. "
   ]
  },
  {
   "cell_type": "code",
   "execution_count": 36,
   "metadata": {
    "collapsed": false
   },
   "outputs": [],
   "source": [
    "#!/usr/bin/env python3\n",
    "# -*- coding: utf8 -*-\n",
    "\n",
    "\"\"\"Analisis estadístico de la densidad de cursos en cada día de la semana\"\"\"\n",
    "import sys\n",
    "import numpy as np\n",
    "from mpl_toolkits.mplot3d import Axes3D\n",
    "import matplotlib.pyplot as plt\n",
    "\n",
    "import parser_horarios\n",
    "\n",
    "# Esto hace que botonee si lee mal alguna linea del CSV\n",
    "# Generalmente, tiene algun encabezado o algo\n",
    "parser_horarios.debug = False\n",
    "\n",
    "class Grilla:\n",
    "    # Esta clase contiene una matriz con la cantidad de cursos que se dan en cada horario\n",
    "    # La idea, es que con la funcion cargar_curso() le puedas ir agregando uno por uno\n",
    "    # Faltaría una función descargar_curso(), pero sería trivial hacerla :)\n",
    "    \n",
    "    # La grilla por defecto empieza a las 7am y termina a las 23\n",
    "    # Si hay materias de media hora, se puede usar el parametro fracciones_hora=2 para dividir cada 30 min\n",
    "    # Si la grilla es posee separaciones de 1h y una materia termina 17:30, se la considera que termina a las 18\n",
    "    # La primer fila de la matriz es el horario de [7, 8), la segunda de [8,9)hs y así.\n",
    "    def __init__(self, hora_inicio=7, hora_fin=23, fracciones_hora=1):\n",
    "        \"\"\"Las horas son [inicio, fin)\"\"\"\n",
    "        self.hora_inicio = hora_inicio\n",
    "        self.hora_fin = hora_fin\n",
    "        self.fracciones_hora = fracciones_hora\n",
    "        self.cantidad_dias_semana = 6\n",
    "        \n",
    "        self.grilla = np.zeros( (int((self.hora_fin-self.hora_inicio)*self.fracciones_hora), self.cantidad_dias_semana), dtype=int )\n",
    "\n",
    "    def __discretizar_hora(self, hora):\n",
    "        if hora > self.hora_fin:\n",
    "            raise ValueError(\"Hora debe ser menor que \"+self.hora_fin)\n",
    "        # Acá elijo si redondeo para arriba o abajo. Cambiar round por int para que ande distinto\n",
    "        return round((hora-self.hora_inicio)*self.fracciones_hora)\n",
    "    \n",
    "    def cargar_curso(self, curso):\n",
    "        for h in curso.horario:\n",
    "            self.cargar_horario(h)\n",
    "    \n",
    "    def cargar_horario(self, horario):\n",
    "        dia=horario[0]\n",
    "        inicio=horario[1]\n",
    "        fin=horario[2]\n",
    "        # Resto uno en día porque arranca en 1 (Arreglar... algún día)\n",
    "        # Notar que no estoy verificando NADA\n",
    "        self.grilla[self.__discretizar_hora(inicio):self.__discretizar_hora(fin), dia-1] += 1\n",
    "\n",
    "    def __str__(self):\n",
    "        return \"De [\"+str(self.hora_inicio)+\", \" +str(self.hora_fin) + \")hs\\nL M X J V S\\n\" + str(self.grilla)\n",
    "        \n",
    "    def graficar(self):\n",
    "        fig = plt.figure()\n",
    "        ax = fig.add_subplot(111, projection='3d')\n",
    "        # Hasta acá llegó mi amor\n",
    "        raise NotImplementedError('No entiendo matplotlib')\n",
    "        \n",
    "    \n",
    "\n",
    "def cargar_planilla(str_archivo='Horarios_1Q2016.csv'):\n",
    "    # Cargo datos\n",
    "    archivo_datos = 'Horarios_1Q2016.csv'\n",
    "    f = open(archivo_datos, 'rb')\n",
    "    str_data = f.read().decode('utf8', 'ignore') # Esto no me gusta\n",
    "    f.close()\n",
    "    \n",
    "    return parser_horarios.procesar_data(str_data)"
   ]
  },
  {
   "cell_type": "markdown",
   "metadata": {},
   "source": [
    "Ahora sólo voy a filtrar los datos que me importan con esta función.\n",
    "Puede usarse otro criterio para, por ejemplo, mostrar sólo las electivas (pero habría que armar una lista)"
   ]
  },
  {
   "cell_type": "code",
   "execution_count": 37,
   "metadata": {
    "collapsed": true
   },
   "outputs": [],
   "source": [
    "def crear_grilla_ocupacion(cursos):\n",
    "    # curso.codigo es un entero con el codigo del curso, ejemplo 6606 o 8610\n",
    "    grilla = Grilla(fracciones_hora=1)\n",
    "    i=0\n",
    "    for curso in cursos:\n",
    "        # Selecciono los del depto de electrónica plan '86\n",
    "        if int(curso.codigo/100)==66:\n",
    "            i=i+1\n",
    "            grilla.cargar_curso(curso)\n",
    "    \n",
    "    print(\"Cantidad de cursos: %d\"%i, file=sys.stderr)    \n",
    "    \n",
    "    return grilla"
   ]
  },
  {
   "cell_type": "markdown",
   "metadata": {},
   "source": [
    "Y acá abajo cargo los datos e imprimo la grilla. (Ir a Files para ver los CSV disponibles)"
   ]
  },
  {
   "cell_type": "code",
   "execution_count": 38,
   "metadata": {
    "collapsed": false
   },
   "outputs": [
    {
     "name": "stdout",
     "output_type": "stream",
     "text": [
      "De [7, 23)hs\n",
      "L M X J V S\n",
      "[[ 0  0  0  0  0  1]\n",
      " [ 0  1  0  1  0  1]\n",
      " [ 0  2  1  1  0  1]\n",
      " [ 0  2  2  3  1  2]\n",
      " [ 0  1  2  3  1  2]\n",
      " [ 0  0  1  3  1  1]\n",
      " [ 2  0  0  3  0  0]\n",
      " [ 2  0  0  4  0  0]\n",
      " [ 2  1  1  3  0  0]\n",
      " [21 13  8 12 12  0]\n",
      " [23 16  8 11 12  0]\n",
      " [23 16  7 11 12  0]\n",
      " [20 22 20 21 19  0]\n",
      " [20 22 20 21 19  0]\n",
      " [20 21 20 19 18  0]\n",
      " [ 3  3  3  3  2  0]]\n"
     ]
    },
    {
     "name": "stderr",
     "output_type": "stream",
     "text": [
      "Cantidad de cursos: 95\n"
     ]
    }
   ],
   "source": [
    "cursos = cargar_planilla('Horarios_1Q2016.csv')\n",
    "grilla = crear_grilla_ocupacion(cursos)\n",
    "    \n",
    "print(grilla)"
   ]
  },
  {
   "cell_type": "markdown",
   "metadata": {},
   "source": [
    "Ahora voy a cargar las materias optativas y analizar de nuevo"
   ]
  },
  {
   "cell_type": "code",
   "execution_count": 39,
   "metadata": {
    "collapsed": false
   },
   "outputs": [
    {
     "name": "stdout",
     "output_type": "stream",
     "text": [
      "De [7, 23)hs\n",
      "L M X J V S\n",
      "[[ 0  0  0  0  1  0]\n",
      " [ 1  1  0  0  2  0]\n",
      " [ 1  2  1  0  1  0]\n",
      " [ 1  2  2  2  2  2]\n",
      " [ 0  1  2  2  1  2]\n",
      " [ 0  0  1  3  1  1]\n",
      " [ 1  0  0  3  0  0]\n",
      " [ 1  1  2  7  0  0]\n",
      " [ 1  3  2  6  0  0]\n",
      " [17  8  8 14  8  0]\n",
      " [19  8  7 10  9  0]\n",
      " [21 10  8 13  9  0]\n",
      " [18 20 19 17 12  0]\n",
      " [18 20 19 17 11  0]\n",
      " [16 16 18 14 10  0]\n",
      " [ 6  3  3  1  3  0]]\n"
     ]
    },
    {
     "name": "stderr",
     "output_type": "stream",
     "text": [
      "Cantidad de cursos: 83\n"
     ]
    }
   ],
   "source": [
    "archivo_datos = 'optativas.csv'\n",
    "f = open(archivo_datos, 'r')\n",
    "lst_optativas = f.read().replace(\".\", \"\").split()\n",
    "f.close()\n",
    "\n",
    "def crear_grilla_ocupacion2(cursos):\n",
    "    # curso.codigo es un entero con el codigo del curso, ejemplo 6606 o 8610\n",
    "    grilla = Grilla(fracciones_hora=1)\n",
    "    i=0\n",
    "    for curso in cursos:\n",
    "        # Selecciono los del depto de electrónica plan '86\n",
    "        if lst_optativas.count(str(curso.codigo)) != 0:\n",
    "            i=i+1\n",
    "            grilla.cargar_curso(curso)\n",
    "    \n",
    "    print(\"Cantidad de cursos: %d\"%i, file=sys.stderr)    \n",
    "    \n",
    "    return grilla\n",
    "\n",
    "grilla2 = crear_grilla_ocupacion2(cursos)\n",
    "\n",
    "print(grilla2)"
   ]
  },
  {
   "cell_type": "code",
   "execution_count": null,
   "metadata": {
    "collapsed": true
   },
   "outputs": [],
   "source": []
  }
 ],
 "metadata": {
  "kernelspec": {
   "display_name": "Python 3",
   "language": "python",
   "name": "python3"
  },
  "language_info": {
   "codemirror_mode": {
    "name": "ipython",
    "version": 3
   },
   "file_extension": ".py",
   "mimetype": "text/x-python",
   "name": "python",
   "nbconvert_exporter": "python",
   "pygments_lexer": "ipython3",
   "version": "3.5.1"
  },
  "name": "Analisis Estadistico.ipynb"
 },
 "nbformat": 4,
 "nbformat_minor": 0
}
